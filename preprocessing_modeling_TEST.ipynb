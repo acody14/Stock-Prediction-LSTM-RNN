{
 "cells": [
  {
   "cell_type": "markdown",
   "id": "0f5671d3-da7e-4f39-a45d-c44c0c5f67b8",
   "metadata": {},
   "source": [
    "## Preprocessing / Modeling Test\n",
    "The purpose of this notebook is to test the structure of our data and try to forecast prices using an ARIMA model and an LSTM"
   ]
  },
  {
   "cell_type": "code",
   "execution_count": null,
   "id": "8fd4fc19-629e-4cdb-8f84-a16e082a6567",
   "metadata": {},
   "outputs": [],
   "source": [
    "# importing libraries\n",
    "import pandas as pd\n",
    "import pandas_ta as ta\n",
    "import numpy as np\n",
    "import matplotlib.pyplot as plt\n",
    "\n",
    "from sklearn.preprocessing import StandardScaler\n",
    "from sklearn.model_selection import train_test_split, KFold, cross_val_score\n",
    "from sklearn.metrics import mean_squared_error, mean_absolute_error, r2_score\n",
    "\n",
    "#maybe we can bayesian optimize our ARIMA model?\n",
    "from bayes_opt import BayesianOptimization\n",
    "\n",
    "\n",
    "\n"
   ]
  }
 ],
 "metadata": {
  "kernelspec": {
   "display_name": "Python 3 (ipykernel)",
   "language": "python",
   "name": "python3"
  },
  "language_info": {
   "codemirror_mode": {
    "name": "ipython",
    "version": 3
   },
   "file_extension": ".py",
   "mimetype": "text/x-python",
   "name": "python",
   "nbconvert_exporter": "python",
   "pygments_lexer": "ipython3",
   "version": "3.11.7"
  }
 },
 "nbformat": 4,
 "nbformat_minor": 5
}
